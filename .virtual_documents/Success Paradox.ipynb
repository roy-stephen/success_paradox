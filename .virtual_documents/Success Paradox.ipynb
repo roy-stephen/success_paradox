


import numpy as np
import pandas as pd
import matplotlib.pyplot as plt
import matplotlib.ticker as mtick
import seaborn as sns
from scipy import stats





def astronaut_simulation(num_applicants=18300, num_selected=200, luck_weight=0.05, num_simulations=1000, distribution='uniform', loc=85, scale=10):
    """Simulates a selection process based on skill and luck.

    This function simulates a scenario where applicants are evaluated based on a combination of skill and luck.
    It calculates the average luck score of the selected applicants, the average number of top-skilled applicants selected,
    and the average impact of luck on the selection process.

    Args:
        num_applicants (int, optional): The total number of applicants. Defaults to 18300.
        num_selected (int, optional): The number of applicants to be selected. Defaults to 200.
        luck_weight (float, optional): The weight given to luck in the overall score calculation (between 0 and 1). Defaults to 0.05.
        num_simulations (int, optional): The number of simulation runs. Defaults to 1000.
        distribution (str, optional): The distribution to use for generating skill and luck scores ('uniform' or 'normal'). Defaults to 'uniform'.
        loc (int, optional): The mean (location) of the normal distribution (used only if distribution is 'normal'). Defaults to 85.
        scale (int, optional): The standard deviation (scale) of the normal distribution (used only if distribution is 'normal'). Defaults to 10.

    Returns:
        tuple: A tuple containing three lists:
            - avg_luck_scores (list): A list of average luck scores for the selected applicants in each simulation.
            - avg_top_skill_selected (list): A list of the number of top-skilled applicants selected in each simulation.
            - impact_of_luck_measures (list): A list of the impact of luck on the selection in each simulation (as a proportion).

    Raises:
        ValueError: If the distribution is not 'uniform' or 'normal'.
    """
    impact_of_luck_measures = []
    avg_luck_scores = []
    avg_top_skill_selected = []
    skill_weight = 1-luck_weight
    for _ in range(num_simulations):
        if distribution == 'uniform':
            skill_scores = np.random.randint(0, 101, num_applicants)
            luck_scores = np.random.randint(0, 101, num_applicants)
        elif distribution == 'normal':
            skill_scores = np.clip(np.random.normal(loc, scale, num_applicants), 0, 100).astype(int)
            luck_scores = np.clip(np.random.normal(loc, scale, num_applicants), 0, 100).astype(int)
        else:
            raise ValueError("Distribution must be either 'normal' or 'uniform'")
        overall_scores = (skill_weight * skill_scores) + (luck_weight * luck_scores)

        selected_indices = np.argsort(overall_scores)[::-1][:num_selected]
        top_skill_indices = np.argsort(skill_scores)[::-1][:num_selected]
        avg_luck_scores.append(np.mean(luck_scores[selected_indices]))
        top_skill_selected_count = len(set(selected_indices) & set(top_skill_indices))
        avg_top_skill_selected.append(top_skill_selected_count)
        impact_of_luck_measures.append(1 - top_skill_selected_count / num_selected)

    return avg_luck_scores, avg_top_skill_selected, impact_of_luck_measures





num_applicants=3000
num_selected=10
luck_weight=0.05
num_simulations=1_000
distribution = 'uniform'
avg_luck_scores, avg_top_skill_selected, impact_of_luck = astronaut_simulation(
    num_applicants, num_selected, luck_weight, num_simulations, distribution
)

print(f"Average luck score of selected astronauts: {np.mean(avg_luck_scores):.1f}")
print(f"Average number of top-skilled astronauts selected: {np.mean(avg_top_skill_selected):.1f}")
print(f"Average impact of luck: {np.mean(impact_of_luck):.2%}")





sns.set_theme(style="whitegrid")

plt.figure(figsize=(15,5))
plt.subplot(1,3,1)
sns.histplot(avg_luck_scores, kde=True)
plt.title('Distribution of Average Luck Scores')
plt.xlabel('Average Luck Score')
plt.ylabel('Frequency')

plt.subplot(1,3,2)
sns.countplot(x=avg_top_skill_selected)
plt.title('Distribution of Top Skilled Selected')
plt.xlabel('Number of Top Skilled')
plt.ylabel('Frequency')

plt.subplot(1,3,3)
sns.histplot(impact_of_luck, kde=True)
plt.gca().xaxis.set_major_formatter(mtick.PercentFormatter(1))
plt.title(f'Distribution of Impact of Luck')
plt.xlabel('Impact of Luck')
plt.ylabel('Frequency')

plt.tight_layout()
plt.show()





luck_weights = np.linspace(0.0, 1.0, 21)
results = []
for weight in luck_weights:
    _, _, impact = astronaut_simulation(
        num_applicants, num_selected, weight, num_simulations, distribution
    )
    mean_impact = np.mean(impact)
    std_err = stats.sem(impact)
    confidence_interval = stats.t.interval(0.95, len(impact)-1, loc=mean_impact, scale=std_err)
    results.append({'Luck Weight': weight,
                    'Luck Impact': mean_impact,
                    'Lower bound': confidence_interval[0],
                    'Upper bound': confidence_interval[1]})

df_results = pd.DataFrame(results)

plt.figure(figsize=(8,6))
a = sns.lineplot(x='Luck Weight', y='Luck Impact', data=df_results, marker='o')
b = sns.lineplot(x='Luck Weight', y='Lower bound', data=df_results, linestyle='')
c = sns.lineplot(x='Luck Weight', y='Upper bound', data=df_results, linestyle='')
line = a.get_lines()
plt.fill_between(line[0].get_xdata()[1:], line[1].get_ydata(), line[2].get_ydata(), color='grey', alpha=.5)
plt.gca().yaxis.set_major_formatter(mtick.PercentFormatter(1))
plt.gca().xaxis.set_major_formatter(mtick.PercentFormatter(1))
plt.xlabel("Luck Weight")
plt.ylabel("Avg. Luck Impact")
plt.title("Impact of Luck Weight on Astronaut Selection")
plt.grid(True)
plt.show()





ratios = np.linspace(0.01, 0.99, 50)
num_applicants = 1000
impact_of_luck_results = []

for ratio in ratios:
    num_selected = int(num_applicants * ratio)
    if num_selected == 0:
        continue
    _, _, impact_of_luck_measures = astronaut_simulation(num_applicants, num_selected, luck_weight, num_simulations, distribution)
    impact_of_luck_results.append({'Ratio': ratio, 'Impact of Luck': np.mean(impact_of_luck_measures)})

df_results = pd.DataFrame(impact_of_luck_results)

plt.figure(figsize=(8,6))
sns.lineplot(x='Ratio', y='Impact of Luck', data=df_results, marker='o')
plt.gca().yaxis.set_major_formatter(mtick.PercentFormatter(1))
plt.gca().xaxis.set_major_formatter(mtick.PercentFormatter(1))
plt.xlabel('Selection Ratio (Selected / Applicants)')
plt.ylabel('Average Impact of Luck')
plt.title('Impact of Luck vs. Selection Ratio')
plt.grid(True)
plt.show()



